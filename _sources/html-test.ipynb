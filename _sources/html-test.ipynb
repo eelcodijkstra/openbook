{
 "cells": [
  {
   "cell_type": "markdown",
   "id": "54351d13-53c6-4641-a58c-c3bce1632d0b",
   "metadata": {},
   "source": [
    "# HTML-test"
   ]
  },
  {
   "cell_type": "markdown",
   "id": "21d3c29b-3268-4ab8-b121-086a37b66367",
   "metadata": {},
   "source": [
    "De onderstaande cel geeft (om voor mij onverklaarbare redenen) een foutmelding (warning) in de JB-verwerking:\n",
    "\n",
    "`/Users/eelco/stack/books/openbook/html-test.ipynb:: WARNING: Could not lex literal_block as \"ipython3\". Highlighting skipped.`"
   ]
  },
  {
   "cell_type": "code",
   "execution_count": 1,
   "id": "d5dd2064-0c04-41f3-9a32-a8fa684f55c4",
   "metadata": {
    "tags": []
   },
   "outputs": [
    {
     "data": {
      "text/html": [
       "\n",
       "<h3> een link </h3>\n",
       "\n",
       "De <a href=\"https://ieni.org\">website van i&i</a>.\n"
      ],
      "text/plain": [
       "<IPython.core.display.HTML object>"
      ]
     },
     "metadata": {},
     "output_type": "display_data"
    }
   ],
   "source": [
    "%%HTML\n",
    "\n",
    "De <a href=\"https://ieni.org\"> website van i&i </a>."
   ]
  }
 ],
 "metadata": {
  "kernelspec": {
   "display_name": "Python 3 (ipykernel)",
   "language": "python",
   "name": "python3"
  },
  "language_info": {
   "codemirror_mode": {
    "name": "ipython",
    "version": 3
   },
   "file_extension": ".py",
   "mimetype": "text/x-python",
   "name": "python",
   "nbconvert_exporter": "python",
   "pygments_lexer": "ipython3",
   "version": "3.10.4"
  }
 },
 "nbformat": 4,
 "nbformat_minor": 5
}
