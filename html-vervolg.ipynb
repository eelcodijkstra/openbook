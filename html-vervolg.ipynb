{
 "cells": [
  {
   "cell_type": "markdown",
   "id": "8d2efb44-f2b7-4b95-8af4-84f71d45f89f",
   "metadata": {},
   "source": [
    "# HTML - vervolg"
   ]
  },
  {
   "cell_type": "markdown",
   "id": "6b19ace0-8ac1-47f0-9196-ffb8b3b42a55",
   "metadata": {},
   "source": [
    "* attributen\n",
    "* opsommingen - \"punten\" of \"bullets\"\n",
    "* plaatjes\n",
    "* CSS - opmaak\n",
    "    * (vanaf begin, in apart bestand)"
   ]
  },
  {
   "cell_type": "markdown",
   "id": "98ca319c-95da-479a-b8a7-4eccf73ab3ef",
   "metadata": {},
   "source": [
    "CSS\n",
    "\n",
    "* opmaak bij tags\n",
    "* classes\n",
    "* div en classes: je eigen blokken\n",
    "* "
   ]
  },
  {
   "cell_type": "markdown",
   "id": "f434dcf3-031f-4437-9393-8232511381ff",
   "metadata": {},
   "source": [
    "formulieren, interactie met de server\n",
    "\n",
    "* POST (http...)\n",
    "* request - response interactie\n",
    "* parameters (naam-waarde paren)\n",
    "* \n"
   ]
  },
  {
   "cell_type": "markdown",
   "id": "5deaa79d-0002-4b4e-9d14-047cbc5d60c5",
   "metadata": {},
   "source": [
    "Complete HTML-bestanden\n",
    "\n",
    "* header, meta-data\n",
    "* gebruik van andere bestanden: opmaak (\"style\"), (inter)actie (JS)\n",
    "* validatie"
   ]
  }
 ],
 "metadata": {
  "kernelspec": {
   "display_name": "Python 3 (ipykernel)",
   "language": "python",
   "name": "python3"
  },
  "language_info": {
   "codemirror_mode": {
    "name": "ipython",
    "version": 3
   },
   "file_extension": ".py",
   "mimetype": "text/x-python",
   "name": "python",
   "nbconvert_exporter": "python",
   "pygments_lexer": "ipython3",
   "version": "3.10.4"
  }
 },
 "nbformat": 4,
 "nbformat_minor": 5
}
